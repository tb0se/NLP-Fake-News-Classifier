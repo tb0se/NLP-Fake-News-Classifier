{
 "cells": [
  {
   "cell_type": "code",
   "execution_count": 1,
   "metadata": {},
   "outputs": [],
   "source": [
    "import numpy as np\n",
    "import pandas as pd"
   ]
  },
  {
   "cell_type": "markdown",
   "metadata": {},
   "source": [
    "# Read dataset"
   ]
  },
  {
   "cell_type": "code",
   "execution_count": 2,
   "metadata": {},
   "outputs": [
    {
     "data": {
      "text/html": [
       "<div>\n",
       "<style scoped>\n",
       "    .dataframe tbody tr th:only-of-type {\n",
       "        vertical-align: middle;\n",
       "    }\n",
       "\n",
       "    .dataframe tbody tr th {\n",
       "        vertical-align: top;\n",
       "    }\n",
       "\n",
       "    .dataframe thead th {\n",
       "        text-align: right;\n",
       "    }\n",
       "</style>\n",
       "<table border=\"1\" class=\"dataframe\">\n",
       "  <thead>\n",
       "    <tr style=\"text-align: right;\">\n",
       "      <th></th>\n",
       "      <th>text</th>\n",
       "      <th>fake</th>\n",
       "      <th>clean_text</th>\n",
       "      <th>clean_text_without_freq_words</th>\n",
       "    </tr>\n",
       "  </thead>\n",
       "  <tbody>\n",
       "    <tr>\n",
       "      <th>178</th>\n",
       "      <td>Parents take gay son to Church to burn out the...</td>\n",
       "      <td>True</td>\n",
       "      <td>parent take gay son church burn spirit homosex...</td>\n",
       "      <td>parent take gay son church burn spirit homosex...</td>\n",
       "    </tr>\n",
       "    <tr>\n",
       "      <th>1431</th>\n",
       "      <td>VIDEO: Bystanders Stop Self Confessed Muslim P...</td>\n",
       "      <td>True</td>\n",
       "      <td>video bystander stop self confessed muslim ped...</td>\n",
       "      <td>video bystander stop self confessed muslim ped...</td>\n",
       "    </tr>\n",
       "    <tr>\n",
       "      <th>1398</th>\n",
       "      <td>PODCAST | Ballot Box: Why Facebook is not doin...</td>\n",
       "      <td>False</td>\n",
       "      <td>podcast ballot box facebook enough election mi...</td>\n",
       "      <td>podcast ballot box facebook enough election mi...</td>\n",
       "    </tr>\n",
       "    <tr>\n",
       "      <th>1066</th>\n",
       "      <td>Cyril Ramaphosa | Women hardest hit by SA's jo...</td>\n",
       "      <td>False</td>\n",
       "      <td>cyril ramaphosa woman hardest hit sa job crisi...</td>\n",
       "      <td>cyril ramaphosa woman hardest hit sa job crisi...</td>\n",
       "    </tr>\n",
       "    <tr>\n",
       "      <th>928</th>\n",
       "      <td>WATCH | News24 Town Hall: Who will rule Nelson...</td>\n",
       "      <td>False</td>\n",
       "      <td>watch news24 town hall rule nelson mandela bay...</td>\n",
       "      <td>watch news24 town hall rule nelson mandela bay...</td>\n",
       "    </tr>\n",
       "  </tbody>\n",
       "</table>\n",
       "</div>"
      ],
      "text/plain": [
       "                                                   text   fake  \\\n",
       "178   Parents take gay son to Church to burn out the...   True   \n",
       "1431  VIDEO: Bystanders Stop Self Confessed Muslim P...   True   \n",
       "1398  PODCAST | Ballot Box: Why Facebook is not doin...  False   \n",
       "1066  Cyril Ramaphosa | Women hardest hit by SA's jo...  False   \n",
       "928   WATCH | News24 Town Hall: Who will rule Nelson...  False   \n",
       "\n",
       "                                             clean_text  \\\n",
       "178   parent take gay son church burn spirit homosex...   \n",
       "1431  video bystander stop self confessed muslim ped...   \n",
       "1398  podcast ballot box facebook enough election mi...   \n",
       "1066  cyril ramaphosa woman hardest hit sa job crisi...   \n",
       "928   watch news24 town hall rule nelson mandela bay...   \n",
       "\n",
       "                          clean_text_without_freq_words  \n",
       "178   parent take gay son church burn spirit homosex...  \n",
       "1431  video bystander stop self confessed muslim ped...  \n",
       "1398  podcast ballot box facebook enough election mi...  \n",
       "1066  cyril ramaphosa woman hardest hit sa job crisi...  \n",
       "928   watch news24 town hall rule nelson mandela bay...  "
      ]
     },
     "execution_count": 2,
     "metadata": {},
     "output_type": "execute_result"
    }
   ],
   "source": [
    "dataset = pd.read_csv(\"dataset.csv\")\n",
    "dataset.sample(5)"
   ]
  },
  {
   "cell_type": "markdown",
   "metadata": {},
   "source": [
    "# Word2Vec (pretrained)"
   ]
  },
  {
   "cell_type": "code",
   "execution_count": 3,
   "metadata": {},
   "outputs": [],
   "source": [
    "corpus = dataset['clean_text']"
   ]
  },
  {
   "cell_type": "code",
   "execution_count": null,
   "metadata": {},
   "outputs": [],
   "source": []
  }
 ],
 "metadata": {
  "kernelspec": {
   "display_name": "Python 3",
   "language": "python",
   "name": "python3"
  },
  "language_info": {
   "codemirror_mode": {
    "name": "ipython",
    "version": 3
   },
   "file_extension": ".py",
   "mimetype": "text/x-python",
   "name": "python",
   "nbconvert_exporter": "python",
   "pygments_lexer": "ipython3",
   "version": "3.9.6"
  }
 },
 "nbformat": 4,
 "nbformat_minor": 4
}
