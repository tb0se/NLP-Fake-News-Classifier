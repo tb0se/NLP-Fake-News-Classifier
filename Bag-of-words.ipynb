{
 "cells": [
  {
   "cell_type": "code",
   "execution_count": 6,
   "metadata": {},
   "outputs": [],
   "source": [
    "import numpy as np\n",
    "import pandas as pd\n",
    "import matplotlib.pyplot as plt"
   ]
  },
  {
   "cell_type": "markdown",
   "metadata": {},
   "source": [
    "# Read dataset"
   ]
  },
  {
   "cell_type": "code",
   "execution_count": 4,
   "metadata": {},
   "outputs": [
    {
     "data": {
      "text/html": [
       "<div>\n",
       "<style scoped>\n",
       "    .dataframe tbody tr th:only-of-type {\n",
       "        vertical-align: middle;\n",
       "    }\n",
       "\n",
       "    .dataframe tbody tr th {\n",
       "        vertical-align: top;\n",
       "    }\n",
       "\n",
       "    .dataframe thead th {\n",
       "        text-align: right;\n",
       "    }\n",
       "</style>\n",
       "<table border=\"1\" class=\"dataframe\">\n",
       "  <thead>\n",
       "    <tr style=\"text-align: right;\">\n",
       "      <th></th>\n",
       "      <th>published_date</th>\n",
       "      <th>title</th>\n",
       "      <th>text</th>\n",
       "      <th>url</th>\n",
       "      <th>fake</th>\n",
       "    </tr>\n",
       "  </thead>\n",
       "  <tbody>\n",
       "    <tr>\n",
       "      <th>1134</th>\n",
       "      <td>02-04-2020</td>\n",
       "      <td>VIDEO: Malema shares 3 weeks banting weight lo...</td>\n",
       "      <td>Julius Malema shares 3 weeks banting weight lo...</td>\n",
       "      <td>https://www.mzansistories.com/2017/02/video-ma...</td>\n",
       "      <td>True</td>\n",
       "    </tr>\n",
       "    <tr>\n",
       "      <th>583</th>\n",
       "      <td>06-04-2018</td>\n",
       "      <td>WATCH VIDEO : Conor McGregor attacking UFC bus...</td>\n",
       "      <td>WATCH VIDEO : Conor McGregor attacking UFC bus...</td>\n",
       "      <td>https://www.mzansistories.com/2018/04/watch-vi...</td>\n",
       "      <td>True</td>\n",
       "    </tr>\n",
       "    <tr>\n",
       "      <th>321</th>\n",
       "      <td>21-10-2021</td>\n",
       "      <td>Rhodes University council approves recommendat...</td>\n",
       "      <td>Rhodes University students may be required to ...</td>\n",
       "      <td>https://www.news24.com//news24/southafrica/new...</td>\n",
       "      <td>False</td>\n",
       "    </tr>\n",
       "    <tr>\n",
       "      <th>1308</th>\n",
       "      <td>30-04-2020</td>\n",
       "      <td>How Much Has ANC Paid Cuban Medics? Cuban Dict...</td>\n",
       "      <td>Follow The Money: The Wall Street Journal labe...</td>\n",
       "      <td>https://sa-news.com/how-much-has-anc-paid-cuba...</td>\n",
       "      <td>True</td>\n",
       "    </tr>\n",
       "    <tr>\n",
       "      <th>578</th>\n",
       "      <td>09-11-2018</td>\n",
       "      <td>Gautrain faces possible court action for chasi...</td>\n",
       "      <td>Gautrain faces possible court action for chasi...</td>\n",
       "      <td>https://www.mzansistories.com/2018/11/gautrain...</td>\n",
       "      <td>True</td>\n",
       "    </tr>\n",
       "  </tbody>\n",
       "</table>\n",
       "</div>"
      ],
      "text/plain": [
       "     published_date                                              title  \\\n",
       "1134     02-04-2020  VIDEO: Malema shares 3 weeks banting weight lo...   \n",
       "583      06-04-2018  WATCH VIDEO : Conor McGregor attacking UFC bus...   \n",
       "321      21-10-2021  Rhodes University council approves recommendat...   \n",
       "1308     30-04-2020  How Much Has ANC Paid Cuban Medics? Cuban Dict...   \n",
       "578      09-11-2018  Gautrain faces possible court action for chasi...   \n",
       "\n",
       "                                                   text  \\\n",
       "1134  Julius Malema shares 3 weeks banting weight lo...   \n",
       "583   WATCH VIDEO : Conor McGregor attacking UFC bus...   \n",
       "321   Rhodes University students may be required to ...   \n",
       "1308  Follow The Money: The Wall Street Journal labe...   \n",
       "578   Gautrain faces possible court action for chasi...   \n",
       "\n",
       "                                                    url   fake  \n",
       "1134  https://www.mzansistories.com/2017/02/video-ma...   True  \n",
       "583   https://www.mzansistories.com/2018/04/watch-vi...   True  \n",
       "321   https://www.news24.com//news24/southafrica/new...  False  \n",
       "1308  https://sa-news.com/how-much-has-anc-paid-cuba...   True  \n",
       "578   https://www.mzansistories.com/2018/11/gautrain...   True  "
      ]
     },
     "execution_count": 4,
     "metadata": {},
     "output_type": "execute_result"
    }
   ],
   "source": [
    "dataset = pd.read_csv(\"./data/SA-News.csv\")\n",
    "dataset.sample(5)"
   ]
  },
  {
   "cell_type": "markdown",
   "metadata": {},
   "source": [
    "# Investigate the dataset"
   ]
  },
  {
   "cell_type": "code",
   "execution_count": 7,
   "metadata": {},
   "outputs": [
    {
     "data": {
      "image/png": "[encoded data removed]",
      "text/plain": [
       "<Figure size 640x480 with 1 Axes>"
      ]
     },
     "metadata": {},
     "output_type": "display_data"
    }
   ],
   "source": [
    "fig, ax = plt.subplots()\n",
    "fig.suptitle(\"Fake\", fontsize=14)\n",
    "\n",
    "dataset['fake'].reset_index().groupby('fake').count().sort_values(by='index').plot(kind='bar',\n",
    "                                                                                   legend=False, ax=ax).grid(axis='x')\n",
    "plt.show()"
   ]
  },
  {
   "cell_type": "code",
   "execution_count": null,
   "metadata": {},
   "outputs": [],
   "source": []
  }
 ],
 "metadata": {
  "kernelspec": {
   "display_name": "Python 3",
   "language": "python",
   "name": "python3"
  },
  "language_info": {
   "codemirror_mode": {
    "name": "ipython",
    "version": 3
   },
   "file_extension": ".py",
   "mimetype": "text/x-python",
   "name": "python",
   "nbconvert_exporter": "python",
   "pygments_lexer": "ipython3",
   "version": "3.9.6"
  }
 },
 "nbformat": 4,
 "nbformat_minor": 4
}
