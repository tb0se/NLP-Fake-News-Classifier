{
  "nbformat": 4,
  "nbformat_minor": 0,
  "metadata": {
    "accelerator": "GPU",
    "colab": {
      "name": "Word Embedding.ipynb",
      "provenance": [],
      "collapsed_sections": []
    },
    "kernelspec": {
      "display_name": "Python 3",
      "language": "python",
      "name": "python3"
    },
    "language_info": {
      "codemirror_mode": {
        "name": "ipython",
        "version": 3
      },
      "file_extension": ".py",
      "mimetype": "text/x-python",
      "name": "python",
      "nbconvert_exporter": "python",
      "pygments_lexer": "ipython3",
      "version": "3.9.6"
    }
  },
  "cells": [
    {
      "cell_type": "code",
      "metadata": {
        "id": "kADwtIucXxji"
      },
      "source": [
        "import time\n",
        "import gzip\n",
        "import shutil\n",
        "\n",
        "import numpy as np\n",
        "import pandas as pd\n",
        "import matplotlib.pyplot as plt\n",
        "import seaborn as sns\n",
        "from sklearn.model_selection import train_test_split\n",
        "\n",
        "import gensim\n",
        "import torch\n",
        "from torch import nn, optim\n",
        "from torch.utils.data import Dataset,DataLoader\n",
        "from torch.utils.data.dataset import random_split\n",
        "from torchtext.data.utils import get_tokenizer\n",
        "from torchtext.vocab import build_vocab_from_iterator\n",
        "\n",
        "from keras.preprocessing import sequence\n",
        "from keras.preprocessing.text import Tokenizer\n",
        "\n",
        "\n",
        "DEVICE = torch.device(\"cuda\" if torch.cuda.is_available() else \"cpu\")\n",
        "# DEVICE = torch.device('cpu')"
      ],
      "execution_count": null,
      "outputs": []
    },
    {
      "cell_type": "markdown",
      "metadata": {
        "id": "HBMleRVgNypb"
      },
      "source": [
        "**Mount drive**"
      ]
    },
    {
      "cell_type": "code",
      "metadata": {
        "colab": {
          "base_uri": "https://localhost:8080/"
        },
        "id": "YgewEefXNxZh",
        "outputId": "33efb68d-e55d-407d-db98-8c2580ed9c45"
      },
      "source": [
        "from google.colab import drive\n",
        "drive.mount('/content/drive')"
      ],
      "execution_count": null,
      "outputs": [
        {
          "output_type": "stream",
          "name": "stdout",
          "text": [
            "Mounted at /content/drive\n"
          ]
        }
      ]
    },
    {
      "cell_type": "markdown",
      "metadata": {
        "id": "y_UpoC4oXxjo"
      },
      "source": [
        "# Read dataset"
      ]
    },
    {
      "cell_type": "code",
      "metadata": {
        "colab": {
          "base_uri": "https://localhost:8080/",
          "height": 206
        },
        "id": "k_-sdMgFXxjq",
        "outputId": "0e73cc68-c2f1-47f4-869d-03547a2fd795"
      },
      "source": [
        "dataset = pd.read_csv(\"/content/drive/MyDrive/Datasets/dataset.csv\")\n",
        "dataset.sample(5)"
      ],
      "execution_count": null,
      "outputs": [
        {
          "output_type": "execute_result",
          "data": {
            "text/html": [
              "<div>\n",
              "<style scoped>\n",
              "    .dataframe tbody tr th:only-of-type {\n",
              "        vertical-align: middle;\n",
              "    }\n",
              "\n",
              "    .dataframe tbody tr th {\n",
              "        vertical-align: top;\n",
              "    }\n",
              "\n",
              "    .dataframe thead th {\n",
              "        text-align: right;\n",
              "    }\n",
              "</style>\n",
              "<table border=\"1\" class=\"dataframe\">\n",
              "  <thead>\n",
              "    <tr style=\"text-align: right;\">\n",
              "      <th></th>\n",
              "      <th>text</th>\n",
              "      <th>fake</th>\n",
              "      <th>clean_text</th>\n",
              "      <th>clean_text_without_freq_words</th>\n",
              "    </tr>\n",
              "  </thead>\n",
              "  <tbody>\n",
              "    <tr>\n",
              "      <th>1370</th>\n",
              "      <td>Canine caper: Cape Town woman pays R500 ransom...</td>\n",
              "      <td>False</td>\n",
              "      <td>canine caper cape town woman pay r500 ransom d...</td>\n",
              "      <td>canine caper cape town woman pay r500 ransom d...</td>\n",
              "    </tr>\n",
              "    <tr>\n",
              "      <th>499</th>\n",
              "      <td>2018 Rolls-Royce Wraith Wraith: R 7 950 000 1 ...</td>\n",
              "      <td>True</td>\n",
              "      <td>2018 rollsroyce wraith wraith r 7 950 000 1 wh...</td>\n",
              "      <td>2018 rollsroyce wraith wraith r 7 950 000 1 wh...</td>\n",
              "    </tr>\n",
              "    <tr>\n",
              "      <th>1050</th>\n",
              "      <td>Man on trial for horrific knife attack on frie...</td>\n",
              "      <td>False</td>\n",
              "      <td>man trial horrific knife attack friend parent ...</td>\n",
              "      <td>man trial horrific knife attack friend parent ...</td>\n",
              "    </tr>\n",
              "    <tr>\n",
              "      <th>710</th>\n",
              "      <td>You can lodge a complain – grievance to SASSA ...</td>\n",
              "      <td>True</td>\n",
              "      <td>lodge complain grievance sassa declined r350 g...</td>\n",
              "      <td>lodge complain grievance sassa declined r350 g...</td>\n",
              "    </tr>\n",
              "    <tr>\n",
              "      <th>1251</th>\n",
              "      <td>One killed, 8 injured following 3-vehicle coll...</td>\n",
              "      <td>True</td>\n",
              "      <td>one killed 8 injured following 3vehicle collis...</td>\n",
              "      <td>killed 8 injured following 3vehicle collision ...</td>\n",
              "    </tr>\n",
              "  </tbody>\n",
              "</table>\n",
              "</div>"
            ],
            "text/plain": [
              "                                                   text  ...                      clean_text_without_freq_words\n",
              "1370  Canine caper: Cape Town woman pays R500 ransom...  ...  canine caper cape town woman pay r500 ransom d...\n",
              "499   2018 Rolls-Royce Wraith Wraith: R 7 950 000 1 ...  ...  2018 rollsroyce wraith wraith r 7 950 000 1 wh...\n",
              "1050  Man on trial for horrific knife attack on frie...  ...  man trial horrific knife attack friend parent ...\n",
              "710   You can lodge a complain – grievance to SASSA ...  ...  lodge complain grievance sassa declined r350 g...\n",
              "1251  One killed, 8 injured following 3-vehicle coll...  ...  killed 8 injured following 3vehicle collision ...\n",
              "\n",
              "[5 rows x 4 columns]"
            ]
          },
          "metadata": {},
          "execution_count": 3
        }
      ]
    },
    {
      "cell_type": "markdown",
      "metadata": {
        "id": "TnddVrQ5b26B"
      },
      "source": [
        "# Split the dataset"
      ]
    },
    {
      "cell_type": "code",
      "metadata": {
        "colab": {
          "base_uri": "https://localhost:8080/"
        },
        "id": "b50RE46Gb6HE",
        "outputId": "e2967b9a-666e-4ebc-8652-263e27f4da85"
      },
      "source": [
        "X_train,X_test,y_train,y_test = train_test_split(dataset['clean_text'],dataset['fake'],\n",
        "                                                test_size=0.2, random_state=1)\n",
        "print(f'X: Training set {X_train.shape}, Testing set {X_test.shape}')\n",
        "print(f'y: Training set {y_train.shape}, Testing set {y_test.shape}')"
      ],
      "execution_count": null,
      "outputs": [
        {
          "output_type": "stream",
          "name": "stdout",
          "text": [
            "X: Training set (1168,), Testing set (292,)\n",
            "y: Training set (1168,), Testing set (292,)\n"
          ]
        }
      ]
    },
    {
      "cell_type": "markdown",
      "metadata": {
        "id": "7sjoTwAMjp29"
      },
      "source": [
        "#Vectorization: Word2Vec"
      ]
    },
    {
      "cell_type": "markdown",
      "metadata": {
        "id": "GKE3EpRvj5J1"
      },
      "source": [
        "## 1 Create preprocessed corpus(list of lists of n-grams)"
      ]
    },
    {
      "cell_type": "code",
      "metadata": {
        "id": "JASS9R9gjS9_"
      },
      "source": [
        "# Create a list of lists of unigrams\n",
        "def create_unigrams_list(corpus):\n",
        "  corpus_lst = []\n",
        "\n",
        "  for article in corpus:\n",
        "    words_lst = article.split()    \n",
        "    grams_lst = [\" \".join(words_lst[i:i+1]) for i in range(0, len(words_lst), 1)]\n",
        "    corpus_lst.append(grams_lst)\n",
        "  return corpus_lst"
      ],
      "execution_count": null,
      "outputs": []
    },
    {
      "cell_type": "code",
      "metadata": {
        "id": "gObc71MYjS3V"
      },
      "source": [
        "corpus_lst = create_unigrams_list(dataset['clean_text'])\n",
        "corpus_lst_train = create_unigrams_list(X_train.copy())\n",
        "corpus_lst_test =  create_unigrams_list(X_test.copy())"
      ],
      "execution_count": null,
      "outputs": []
    },
    {
      "cell_type": "markdown",
      "metadata": {
        "id": "TEazEYy-jzwh"
      },
      "source": [
        "## 2 Embedding model (Word2Vec)"
      ]
    },
    {
      "cell_type": "code",
      "metadata": {
        "id": "Ytx8VlrTjSxz"
      },
      "source": [
        "# Embedding model\n",
        "word2vec = gensim.models.word2vec.Word2Vec(corpus_lst, size=300, window=5, min_count=1, sg=1)"
      ],
      "execution_count": null,
      "outputs": []
    },
    {
      "cell_type": "markdown",
      "metadata": {
        "id": "Gk5Ty7ThkE-6"
      },
      "source": [
        "## 3 Vocabulary"
      ]
    },
    {
      "cell_type": "code",
      "metadata": {
        "colab": {
          "base_uri": "https://localhost:8080/"
        },
        "id": "LkuRnJV4jSoc",
        "outputId": "159d3ef9-1e2d-479d-9558-b6fad7b8c601"
      },
      "source": [
        "# Vocab size\n",
        "print('Vocab size:',len(word2vec.wv.vocab))"
      ],
      "execution_count": null,
      "outputs": [
        {
          "output_type": "stream",
          "name": "stdout",
          "text": [
            "Vocab size: 29746\n"
          ]
        }
      ]
    },
    {
      "cell_type": "code",
      "metadata": {
        "colab": {
          "base_uri": "https://localhost:8080/"
        },
        "id": "npmY3rWGjScq",
        "outputId": "1388ae5f-f6be-4316-a668-4c236df38301"
      },
      "source": [
        "# Example\n",
        "word2vec.wv.most_similar('police')"
      ],
      "execution_count": null,
      "outputs": [
        {
          "output_type": "execute_result",
          "data": {
            "text/plain": [
              "[('sap', 0.8360641002655029),\n",
              " ('officer', 0.811168909072876),\n",
              " ('station', 0.8068121671676636),\n",
              " ('suspect', 0.8046930432319641),\n",
              " ('naidoo', 0.79648357629776),\n",
              " ('naidu', 0.7940928339958191),\n",
              " ('brigadier', 0.7920454740524292),\n",
              " ('commander', 0.7919169664382935),\n",
              " ('thembeka', 0.7894965410232544),\n",
              " ('ipid', 0.7891992330551147)]"
            ]
          },
          "metadata": {},
          "execution_count": 9
        }
      ]
    },
    {
      "cell_type": "markdown",
      "metadata": {
        "id": "7Tt6_BOncgJ1"
      },
      "source": [
        "# 1. Feature Engineering"
      ]
    },
    {
      "cell_type": "markdown",
      "metadata": {
        "id": "EBeCTb9gCxf3"
      },
      "source": [
        "## 1.1 Prepare Tokens"
      ]
    },
    {
      "cell_type": "code",
      "metadata": {
        "colab": {
          "base_uri": "https://localhost:8080/"
        },
        "id": "Ft0SpTKvCxDI",
        "outputId": "48412d92-6eec-4163-b7f7-5b38a3575cb6"
      },
      "source": [
        "# Create tokenizer\n",
        "k_tokenizer = Tokenizer(oov_token=\"NaN\", num_words=300)\n",
        "k_tokenizer.fit_on_texts(corpus_lst)\n",
        "vocab = k_tokenizer.word_index\n",
        "\n",
        "# Tokenize training text\n",
        "train_text2seq = k_tokenizer.texts_to_sequences(corpus_lst_train)\n",
        "X_train_tkns = sequence.pad_sequences(train_text2seq, maxlen=250,padding=\"post\", truncating=\"post\")\n",
        "print(f'Training text {X_train_tkns.shape}')\n",
        "\n",
        "# Tokenize testing text\n",
        "test_text2seq = k_tokenizer.texts_to_sequences(corpus_lst_test)\n",
        "X_test_tkns = sequence.pad_sequences(test_text2seq, maxlen=250,padding=\"post\", truncating=\"post\")\n",
        "print(f'Testing text {X_test_tkns.shape}')"
      ],
      "execution_count": null,
      "outputs": [
        {
          "output_type": "stream",
          "name": "stdout",
          "text": [
            "Training text (1168, 250)\n",
            "Testing text (292, 250)\n"
          ]
        }
      ]
    },
    {
      "cell_type": "markdown",
      "metadata": {
        "id": "KkexKIRQyzOB"
      },
      "source": [
        "## 1.2 Create datasets"
      ]
    },
    {
      "cell_type": "code",
      "metadata": {
        "id": "hM0DurCPy5v4"
      },
      "source": [
        "# Custom Dataset\n",
        "class NewsDataset(Dataset):\n",
        "  def __init__(self, tokens, labels):\n",
        "    self.tokens = torch.from_numpy(tokens)\n",
        "    self.labels = torch.from_numpy(labels.to_numpy())\n",
        "\n",
        "  def __len__(self):\n",
        "    return len(self.labels)\n",
        "\n",
        "  def __getitem__(self, idx):\n",
        "    return  self.labels[idx], self.tokens[idx]"
      ],
      "execution_count": null,
      "outputs": []
    },
    {
      "cell_type": "code",
      "metadata": {
        "id": "HtvglAIZy9hf"
      },
      "source": [
        "train_dataset = NewsDataset(X_train_tkns, y_train)\n",
        "test_dataset = NewsDataset(X_test_tkns, y_test)"
      ],
      "execution_count": null,
      "outputs": []
    },
    {
      "cell_type": "markdown",
      "metadata": {
        "id": "b5U-HvdHzYOS"
      },
      "source": [
        "## 1.4 Create dataloaders"
      ]
    },
    {
      "cell_type": "code",
      "metadata": {
        "id": "-AQxNvgyzhyN"
      },
      "source": [
        "train_dataloader = DataLoader(train_dataset, batch_size=5, shuffle=False)\n",
        "test_dataloader = DataLoader(test_dataset, batch_size=5, shuffle=False)"
      ],
      "execution_count": null,
      "outputs": []
    },
    {
      "cell_type": "markdown",
      "metadata": {
        "id": "3aD2TzUzcFri"
      },
      "source": [
        "## 1.5 Ensure things make sense"
      ]
    },
    {
      "cell_type": "code",
      "metadata": {
        "colab": {
          "base_uri": "https://localhost:8080/"
        },
        "id": "N12HQJVpcML0",
        "outputId": "6bf0cff2-560b-4d88-e7d3-c6ce3cb07890"
      },
      "source": [
        "idx = 0\n",
        "\n",
        "# Text\n",
        "text = X_train.iloc[idx]\n",
        "print(f'from: {text},\\n len:{len(text.split())}')\n",
        "\n",
        "# Tokens\n",
        "# labels, tokens = next(iter(train_dataloader))\n",
        "labels, tokens = train_dataset[idx]\n",
        "print(f'to: {tokens.tolist()}')\n",
        "\n",
        "# Check\n",
        "print(f'Check: {text.split()[0]} => idx in vocab: {vocab[text.split()[0]]}')"
      ],
      "execution_count": null,
      "outputs": [
        {
          "output_type": "stream",
          "name": "stdout",
          "text": [
            "from: expropriate land western cape malema tell supporter eff leader julius malema told resident kayamandi stellenbosch party would expropriate land western cape come power malema kicked party election campaign province thursday 10 day resident expected cast voteskayamandi resident came number rallythe area plagued year problem unemployment lack housingresidents told malema issue faced daily basis saying toilet access residential waste collection service proper housing malema wasted time criticising anc da governance nationally provincially stellenbosch racist town want change scared eff change place better eff want everyone stand together one said malema added running water flushing toilet area lashed anc da supplying adequate toilet housing lived informal settlement animal dont running water flushing toilet da anc treat u like animal need electricity wait housing electricity people need electricity malema said 2016 municipal election da received majority 30 seat councilthese white farm belong u want land take south africa expropriation land start must take land also used opportunity take swipe lobby group political party calling western cape independent state useless people saying want western cape belongs africa belongs everyone end address malema promised female supporter party would buy housewe buy house accommodate said,\n",
            " len:189\n",
            "to: [1, 166, 110, 12, 1, 1, 1, 228, 142, 1, 1, 40, 139, 1, 1, 15, 10, 1, 166, 110, 12, 90, 175, 1, 1, 15, 125, 1, 167, 173, 240, 29, 139, 130, 1, 1, 139, 232, 129, 1, 102, 1, 13, 284, 1, 1, 1, 40, 1, 215, 1, 1, 1, 207, 1, 1, 1, 1, 1, 28, 1, 1, 1, 1, 17, 1, 6, 94, 1, 1, 1, 1, 1, 80, 55, 1, 1, 228, 1, 116, 1, 228, 55, 1, 1, 1, 9, 2, 1, 75, 1, 114, 1, 1, 102, 1, 6, 94, 1, 1, 1, 1, 1, 1, 1, 1, 115, 1, 114, 1, 1, 94, 6, 1, 49, 22, 1, 67, 1, 1, 1, 1, 3, 67, 1, 1, 2, 1, 202, 125, 94, 151, 1, 1, 1, 1, 21, 104, 1, 49, 55, 166, 57, 7, 11, 1, 166, 1, 82, 57, 166, 4, 152, 1, 57, 1, 1, 76, 121, 15, 1, 110, 12, 1, 20, 1, 3, 207, 55, 110, 12, 1, 11, 1, 1, 203, 1, 1, 1, 1, 1, 15, 10, 1, 1, 1, 58, 1, 2, 0, 0, 0, 0, 0, 0, 0, 0, 0, 0, 0, 0, 0, 0, 0, 0, 0, 0, 0, 0, 0, 0, 0, 0, 0, 0, 0, 0, 0, 0, 0, 0, 0, 0, 0, 0, 0, 0, 0, 0, 0, 0, 0, 0, 0, 0, 0, 0, 0, 0, 0, 0, 0, 0, 0, 0, 0, 0, 0, 0, 0]\n",
            "Check: expropriate => idx in vocab: 5301\n"
          ]
        }
      ]
    },
    {
      "cell_type": "markdown",
      "metadata": {
        "id": "BZVTmzHOf9e5"
      },
      "source": [
        "# Deep Learning Model"
      ]
    },
    {
      "cell_type": "markdown",
      "metadata": {
        "id": "yMrJ3e4doxK6"
      },
      "source": [
        "## 1 Create News classification models"
      ]
    },
    {
      "cell_type": "code",
      "metadata": {
        "id": "6p_DxHzJ4C6K"
      },
      "source": [
        "class SimpleLSTMClassifier(nn.Module):\n",
        "\n",
        "  def __init__(self, vocab_size, embed_dim, hidden, n_layers, num_class, weights):\n",
        "    super(SimpleLSTMClassifier, self).__init__()\n",
        "\n",
        "    self.n_layers = n_layers\n",
        "    self.hidden = hidden\n",
        "\n",
        "    self.embedding = nn.Embedding.from_pretrained(weights, freeze=True)\n",
        "    # self.embedding = nn.Embedding(vocab_size, embed_dim)\n",
        "\n",
        "    self.lstm = nn.LSTM(embed_dim, hidden, num_layers=n_layers, \n",
        "                        bidirectional=True, dropout=0.2, batch_first=True)\n",
        "    \n",
        "    self.fc = nn.Linear(hidden* 2, num_class)\n",
        "\n",
        "    self.sig = nn.Sigmoid()\n",
        "\n",
        "  def forward(self, text):\n",
        "\n",
        "    emb = self.embedding(text)\n",
        "\n",
        "    h = torch.zeros((self.n_layers*2, text.size(0), self.hidden)).to(DEVICE)\n",
        "    c = torch.zeros((self.n_layers*2, text.size(0), self.hidden)).to(DEVICE)\n",
        "    nn.init.xavier_normal_(h)\n",
        "    nn.init.xavier_normal_(c)\n",
        "\n",
        "    out,(hidden,cell) = self.lstm(emb, (h,c))\n",
        "\n",
        "    hidden = torch.cat((hidden[-2,:,:], hidden[-1,:,:]), dim = 1)\n",
        "\n",
        "    output = self.fc(hidden)\n",
        "    return self.sig(output)"
      ],
      "execution_count": null,
      "outputs": []
    },
    {
      "cell_type": "code",
      "metadata": {
        "id": "jVGDFMx4gTWu"
      },
      "source": [
        "class NewsClassificationModel(nn.Module):\n",
        "\n",
        "  def __init__(self, vocab_size, embed_dim, num_class, weight):\n",
        "    super(NewsClassificationModel, self).__init__()\n",
        "\n",
        "    # self.embedding = nn.EmbeddingBag(vocab_size, embed_dim, sparse=True)\n",
        "    self.embedding_bag = nn.EmbeddingBag.from_pretrained(weight, freeze=True)\n",
        "    self.fc1 = nn.Linear(embed_dim,num_class)\n",
        "    # self.fc2 = nn.Linear(32,num_class)\n",
        "    self.sig = nn.Sigmoid()\n",
        "    # self.relu = nn.ReLU()\n",
        "\n",
        "    self.__init_weights()\n",
        "\n",
        "  def __init_weights(self):\n",
        "    initrange = 0.5\n",
        "    # self.embedding.weight.data.uniform_(-initrange, initrange)\n",
        "    self.fc1.weight.data.uniform_(-initrange, initrange)\n",
        "    self.fc1.bias.data.zero_()\n",
        "    # self.fc2.weight.data.uniform_(-initrange, initrange)\n",
        "    # self.fc2.bias.data.zero_()\n",
        "\n",
        "  def forward(self, text, offsets):\n",
        "    # embedded = self.embedding(text, offsets)\n",
        "    embedded = self.embedding_bag(text, offsets)\n",
        "\n",
        "    # Last linear layers\n",
        "    out = self.fc1(embedded)\n",
        "    # out = self.relu(out)\n",
        "    # out = self.fc2(out)\n",
        "\n",
        "    return self.sig(out)"
      ],
      "execution_count": null,
      "outputs": []
    },
    {
      "cell_type": "markdown",
      "metadata": {
        "id": "RJ_DjZjZozmy"
      },
      "source": [
        "## 2 Training loop"
      ]
    },
    {
      "cell_type": "code",
      "metadata": {
        "id": "B17oQcM1o3OC"
      },
      "source": [
        "def train_model(model,dataloader,curr_epoch,criterion,optimizer,print_freq = 2):\n",
        "  model.train()\n",
        "  total_acc, total_count = 0,0\n",
        "  running_loss = 0.0\n",
        "  \n",
        "\n",
        "  for idx, (label, text) in enumerate(dataloader):\n",
        "    label = label.to(DEVICE)\n",
        "    text = text.to(DEVICE)\n",
        "\n",
        "\n",
        "    optimizer.zero_grad()\n",
        "    probs = model(text)\n",
        "\n",
        "    preds = torch.round(probs)\n",
        "    label = torch.unsqueeze(label, 1)\n",
        "    label = label.to(torch.float)\n",
        "\n",
        "    loss = criterion(preds, label)\n",
        "\n",
        "    loss.backward()\n",
        "    nn.utils.clip_grad_norm_(model.parameters(), 0.1)\n",
        "    optimizer.step()\n",
        "\n",
        "    total_acc += (preds == label).sum().item()\n",
        "    total_count += label.size(0)\n",
        "    running_loss += loss.item() * label.size(0)\n",
        "\n",
        "    if idx % print_freq == 0:\n",
        "      print(f'epoch {curr_epoch} | {idx}/{len(dataloader)} batches | accuracy {total_acc/total_count}')\n",
        "      total_acc, total_count = 0,0\n",
        "\n",
        "  epoch_loss = running_loss / total_count\n",
        "  epoch_acc = total_acc / total_count\n",
        "  return epoch_loss, epoch_acc"
      ],
      "execution_count": null,
      "outputs": []
    },
    {
      "cell_type": "markdown",
      "metadata": {
        "id": "SI2ha6Pxs9UK"
      },
      "source": [
        "## 3 Evaluation Loop"
      ]
    },
    {
      "cell_type": "code",
      "metadata": {
        "id": "jkzCj0b6s9rY"
      },
      "source": [
        "def eval_model(model, dataloader, criterion,is_test=False):\n",
        "  model.eval()\n",
        "\n",
        "  total_acc, total_count = 0, 0\n",
        "  running_loss = 0.0\n",
        "  pred_probs = []\n",
        "  final_preds = []\n",
        "\n",
        "  with torch.no_grad():\n",
        "    for idx, (label, text) in enumerate(dataloader):\n",
        "      label = label.to(DEVICE)\n",
        "      text = text.to(DEVICE)\n",
        "      \n",
        "      probs = model(text)\n",
        "\n",
        "      preds = torch.round(probs)\n",
        "      if is_test:\n",
        "        pred_probs.append(probs.cpu().tolist())\n",
        "        final_preds.append(preds.cpu().tolist())\n",
        "      \n",
        "      label = torch.unsqueeze(label, 1)\n",
        "      label = label.to(torch.float)\n",
        "\n",
        "      loss = criterion(preds, label)\n",
        "\n",
        "      total_acc += (preds == label).sum().item()\n",
        "      total_count += label.size(0)\n",
        "      running_loss +=loss.item() * label.size(0)\n",
        "\n",
        "  epoch_loss = running_loss / total_count\n",
        "  epoch_acc = total_acc / total_count\n",
        "\n",
        "  if is_test:\n",
        "    return epoch_loss, epoch_acc, pred_probs,final_preds\n",
        "  else:\n",
        "    return epoch_loss, epoch_acc"
      ],
      "execution_count": null,
      "outputs": []
    },
    {
      "cell_type": "markdown",
      "metadata": {
        "id": "URYMy_4wueSC"
      },
      "source": [
        "## 4 Run the model"
      ]
    },
    {
      "cell_type": "code",
      "metadata": {
        "id": "oTtN_okmukrR"
      },
      "source": [
        "def run(model, num_epochs, dataloader, criterion, optimizer, scheduler,seed):\n",
        "  torch.manual_seed(seed)\n",
        "  torch.cuda.manual_seed_all(seed)\n",
        "\n",
        "  tot_start_time = time.time()\n",
        "  total_acc = None\n",
        "\n",
        "  history = {\n",
        "      'train': {'loss':np.zeros(num_epochs), 'acc':np.zeros(num_epochs)},\n",
        "      'valid': {'loss':np.zeros(num_epochs), 'acc':np.zeros(num_epochs)},\n",
        "  }\n",
        "\n",
        "  for epoch in range(1, num_epochs+1):\n",
        "    epoch_start_time = time.time()\n",
        "    \n",
        "    # Training\n",
        "    train_loss, train_acc = train_model(model, dataloader['train'], epoch, criterion, optimizer )\n",
        "    history['train']['loss'][epoch-1] = train_loss\n",
        "    history['train']['acc'][epoch-1] = train_acc\n",
        "\n",
        "    # Validation\n",
        "    val_loss, val_acc = eval_model(model, dataloader['valid'], criterion)\n",
        "    history['train']['loss'][epoch-1] = val_loss\n",
        "    history['train']['acc'][epoch-1] = val_acc\n",
        "\n",
        "    if total_acc is not None and total_acc > val_acc:\n",
        "      scheduler.step()\n",
        "    else:\n",
        "      total_acc = val_acc\n",
        "\n",
        "    print('-'*60)\n",
        "    print(f'end of epoch {epoch} | time:{time.time() - epoch_start_time}s | valid accuracy {val_acc}')\n",
        "    print('-'*60)\n",
        "  \n",
        "  print(f'Elapsed time {time.time() - tot_start_time}')\n",
        "  return history"
      ],
      "execution_count": null,
      "outputs": []
    },
    {
      "cell_type": "markdown",
      "metadata": {
        "id": "lTimfB-BrXtK"
      },
      "source": [
        "## 5 Training"
      ]
    },
    {
      "cell_type": "markdown",
      "metadata": {
        "id": "hyjHlJfdyqnH"
      },
      "source": [
        "### 5.1 Initialise"
      ]
    },
    {
      "cell_type": "code",
      "metadata": {
        "colab": {
          "base_uri": "https://localhost:8080/"
        },
        "id": "Rqw964rOrZGl",
        "outputId": "3ae9117b-f53c-44d5-8474-31d7b69f63ec"
      },
      "source": [
        "hyper_params = {\n",
        "    'epochs': 10,\n",
        "    'batch-size': 32,\n",
        "    'learning-rate':1e-3,\n",
        "    'num-classes':1,\n",
        "    'embedding-size': 300,\n",
        "    'hidden-dim':32,\n",
        "    'num-layers':2,\n",
        "    'seed':2021\n",
        "}\n",
        "\n",
        "# word2vec weight matrix\n",
        "word2vec_weights = torch.FloatTensor(word2vec.wv.vectors)\n",
        "\n",
        "# Model \n",
        "vocab_size = len(vocab)\n",
        "news_model = SimpleLSTMClassifier(vocab_size, hyper_params['embedding-size'],hyper_params['hidden-dim'],\n",
        "                                  hyper_params['num-layers'], hyper_params['num-classes'],weights=word2vec_weights).to(DEVICE)\n",
        "print(news_model)\n",
        "\n",
        "# criterion\n",
        "criterion = nn.BCELoss()\n",
        "\n",
        "# Optimizer \n",
        "optimizer = optim.Adam(news_model.parameters(), lr=hyper_params['learning-rate'])\n",
        "\n",
        "# Scheduler\n",
        "scheduler = optim.lr_scheduler.StepLR(optimizer, 1.0, gamma=0.1)"
      ],
      "execution_count": null,
      "outputs": [
        {
          "output_type": "stream",
          "name": "stdout",
          "text": [
            "SimpleLSTMClassifier(\n",
            "  (embedding): Embedding(29746, 300)\n",
            "  (lstm): LSTM(300, 32, num_layers=2, batch_first=True, dropout=0.2, bidirectional=True)\n",
            "  (fc): Linear(in_features=64, out_features=1, bias=True)\n",
            "  (sig): Sigmoid()\n",
            ")\n"
          ]
        }
      ]
    },
    {
      "cell_type": "markdown",
      "metadata": {
        "id": "MWsViQTTytNC"
      },
      "source": [
        "### 5.2 Datasets"
      ]
    },
    {
      "cell_type": "code",
      "metadata": {
        "colab": {
          "base_uri": "https://localhost:8080/"
        },
        "id": "ABjCnNl6yxFZ",
        "outputId": "b35df4f9-4945-4b0d-9deb-09789f1529c9"
      },
      "source": [
        "num_train = int(len(train_dataset) * 0.75)\n",
        "split_train_, split_valid_ = random_split(train_dataset, [num_train, len(train_dataset)-num_train])\n",
        "print(f'Training dataset {len(split_train_)}')\n",
        "print(f'Validation dataset {len(split_valid_)}')\n",
        "print(f'Testing dataset {len(test_dataset)}')\n",
        "\n",
        "train_dataloader = DataLoader(split_train_, batch_size=hyper_params['batch-size'], shuffle=True)\n",
        "valid_dataloader = DataLoader(split_valid_, batch_size=hyper_params['batch-size'], shuffle=True)\n",
        "test_dataloader = DataLoader(test_dataset, batch_size=hyper_params['batch-size'], shuffle=False)\n",
        "\n",
        "dataloader = {\n",
        "    'train': train_dataloader,\n",
        "    'valid': valid_dataloader\n",
        "}"
      ],
      "execution_count": null,
      "outputs": [
        {
          "output_type": "stream",
          "name": "stdout",
          "text": [
            "Training dataset 876\n",
            "Validation dataset 292\n",
            "Testing dataset 292\n"
          ]
        }
      ]
    },
    {
      "cell_type": "markdown",
      "metadata": {
        "id": "94wy6RlB1pCQ"
      },
      "source": [
        "### 5.3 Train the model"
      ]
    },
    {
      "cell_type": "code",
      "metadata": {
        "colab": {
          "base_uri": "https://localhost:8080/"
        },
        "id": "fC4xXJ8O1sFB",
        "outputId": "1ac6caba-9823-4c97-acfa-76978457dedb"
      },
      "source": [
        "train_history = run(news_model, hyper_params['epochs'], dataloader, criterion, optimizer, scheduler,seed=hyper_params['seed'])"
      ],
      "execution_count": null,
      "outputs": [
        {
          "output_type": "stream",
          "name": "stdout",
          "text": [
            "epoch 1 | 0/28 batches | accuracy 0.375\n",
            "epoch 1 | 2/28 batches | accuracy 0.5\n",
            "epoch 1 | 4/28 batches | accuracy 0.484375\n",
            "epoch 1 | 6/28 batches | accuracy 0.390625\n",
            "epoch 1 | 8/28 batches | accuracy 0.46875\n",
            "epoch 1 | 10/28 batches | accuracy 0.4375\n",
            "epoch 1 | 12/28 batches | accuracy 0.5\n",
            "epoch 1 | 14/28 batches | accuracy 0.578125\n",
            "epoch 1 | 16/28 batches | accuracy 0.53125\n",
            "epoch 1 | 18/28 batches | accuracy 0.4375\n",
            "epoch 1 | 20/28 batches | accuracy 0.515625\n",
            "epoch 1 | 22/28 batches | accuracy 0.453125\n",
            "epoch 1 | 24/28 batches | accuracy 0.5\n",
            "epoch 1 | 26/28 batches | accuracy 0.484375\n",
            "------------------------------------------------------------\n",
            "end of epoch 1 | time:10.99885368347168s | valid accuracy 0.5376712328767124\n",
            "------------------------------------------------------------\n",
            "epoch 2 | 0/28 batches | accuracy 0.46875\n",
            "epoch 2 | 2/28 batches | accuracy 0.5\n",
            "epoch 2 | 4/28 batches | accuracy 0.46875\n",
            "epoch 2 | 6/28 batches | accuracy 0.421875\n",
            "epoch 2 | 8/28 batches | accuracy 0.421875\n",
            "epoch 2 | 10/28 batches | accuracy 0.515625\n",
            "epoch 2 | 12/28 batches | accuracy 0.421875\n",
            "epoch 2 | 14/28 batches | accuracy 0.375\n",
            "epoch 2 | 16/28 batches | accuracy 0.59375\n",
            "epoch 2 | 18/28 batches | accuracy 0.484375\n",
            "epoch 2 | 20/28 batches | accuracy 0.515625\n",
            "epoch 2 | 22/28 batches | accuracy 0.625\n",
            "epoch 2 | 24/28 batches | accuracy 0.4375\n",
            "epoch 2 | 26/28 batches | accuracy 0.453125\n",
            "------------------------------------------------------------\n",
            "end of epoch 2 | time:10.52958607673645s | valid accuracy 0.5376712328767124\n",
            "------------------------------------------------------------\n",
            "epoch 3 | 0/28 batches | accuracy 0.34375\n",
            "epoch 3 | 2/28 batches | accuracy 0.5\n",
            "epoch 3 | 4/28 batches | accuracy 0.53125\n",
            "epoch 3 | 6/28 batches | accuracy 0.59375\n",
            "epoch 3 | 8/28 batches | accuracy 0.40625\n",
            "epoch 3 | 10/28 batches | accuracy 0.53125\n",
            "epoch 3 | 12/28 batches | accuracy 0.5\n",
            "epoch 3 | 14/28 batches | accuracy 0.453125\n",
            "epoch 3 | 16/28 batches | accuracy 0.453125\n",
            "epoch 3 | 18/28 batches | accuracy 0.4375\n",
            "epoch 3 | 20/28 batches | accuracy 0.46875\n",
            "epoch 3 | 22/28 batches | accuracy 0.4375\n",
            "epoch 3 | 24/28 batches | accuracy 0.578125\n",
            "epoch 3 | 26/28 batches | accuracy 0.4375\n",
            "------------------------------------------------------------\n",
            "end of epoch 3 | time:10.90118956565857s | valid accuracy 0.5376712328767124\n",
            "------------------------------------------------------------\n",
            "epoch 4 | 0/28 batches | accuracy 0.4375\n",
            "epoch 4 | 2/28 batches | accuracy 0.5625\n",
            "epoch 4 | 4/28 batches | accuracy 0.5625\n",
            "epoch 4 | 6/28 batches | accuracy 0.359375\n",
            "epoch 4 | 8/28 batches | accuracy 0.484375\n",
            "epoch 4 | 10/28 batches | accuracy 0.59375\n",
            "epoch 4 | 12/28 batches | accuracy 0.421875\n",
            "epoch 4 | 14/28 batches | accuracy 0.5625\n",
            "epoch 4 | 16/28 batches | accuracy 0.46875\n",
            "epoch 4 | 18/28 batches | accuracy 0.453125\n",
            "epoch 4 | 20/28 batches | accuracy 0.421875\n",
            "epoch 4 | 22/28 batches | accuracy 0.4375\n",
            "epoch 4 | 24/28 batches | accuracy 0.5\n",
            "epoch 4 | 26/28 batches | accuracy 0.453125\n",
            "------------------------------------------------------------\n",
            "end of epoch 4 | time:10.839262008666992s | valid accuracy 0.5376712328767124\n",
            "------------------------------------------------------------\n",
            "epoch 5 | 0/28 batches | accuracy 0.40625\n",
            "epoch 5 | 2/28 batches | accuracy 0.453125\n",
            "epoch 5 | 4/28 batches | accuracy 0.4375\n",
            "epoch 5 | 6/28 batches | accuracy 0.453125\n",
            "epoch 5 | 8/28 batches | accuracy 0.5625\n",
            "epoch 5 | 10/28 batches | accuracy 0.5625\n",
            "epoch 5 | 12/28 batches | accuracy 0.578125\n",
            "epoch 5 | 14/28 batches | accuracy 0.328125\n",
            "epoch 5 | 16/28 batches | accuracy 0.515625\n",
            "epoch 5 | 18/28 batches | accuracy 0.609375\n",
            "epoch 5 | 20/28 batches | accuracy 0.453125\n",
            "epoch 5 | 22/28 batches | accuracy 0.453125\n",
            "epoch 5 | 24/28 batches | accuracy 0.46875\n",
            "epoch 5 | 26/28 batches | accuracy 0.421875\n",
            "------------------------------------------------------------\n",
            "end of epoch 5 | time:10.723644733428955s | valid accuracy 0.5376712328767124\n",
            "------------------------------------------------------------\n",
            "epoch 6 | 0/28 batches | accuracy 0.5\n",
            "epoch 6 | 2/28 batches | accuracy 0.46875\n",
            "epoch 6 | 4/28 batches | accuracy 0.515625\n",
            "epoch 6 | 6/28 batches | accuracy 0.5\n",
            "epoch 6 | 8/28 batches | accuracy 0.578125\n",
            "epoch 6 | 10/28 batches | accuracy 0.46875\n",
            "epoch 6 | 12/28 batches | accuracy 0.421875\n",
            "epoch 6 | 14/28 batches | accuracy 0.453125\n",
            "epoch 6 | 16/28 batches | accuracy 0.515625\n",
            "epoch 6 | 18/28 batches | accuracy 0.484375\n",
            "epoch 6 | 20/28 batches | accuracy 0.4375\n",
            "epoch 6 | 22/28 batches | accuracy 0.359375\n",
            "epoch 6 | 24/28 batches | accuracy 0.515625\n",
            "epoch 6 | 26/28 batches | accuracy 0.5\n",
            "------------------------------------------------------------\n",
            "end of epoch 6 | time:10.341069459915161s | valid accuracy 0.5376712328767124\n",
            "------------------------------------------------------------\n",
            "epoch 7 | 0/28 batches | accuracy 0.5\n",
            "epoch 7 | 2/28 batches | accuracy 0.46875\n",
            "epoch 7 | 4/28 batches | accuracy 0.5\n",
            "epoch 7 | 6/28 batches | accuracy 0.4375\n",
            "epoch 7 | 8/28 batches | accuracy 0.5\n",
            "epoch 7 | 10/28 batches | accuracy 0.5\n",
            "epoch 7 | 12/28 batches | accuracy 0.3125\n",
            "epoch 7 | 14/28 batches | accuracy 0.421875\n",
            "epoch 7 | 16/28 batches | accuracy 0.515625\n",
            "epoch 7 | 18/28 batches | accuracy 0.46875\n",
            "epoch 7 | 20/28 batches | accuracy 0.4375\n",
            "epoch 7 | 22/28 batches | accuracy 0.484375\n",
            "epoch 7 | 24/28 batches | accuracy 0.515625\n",
            "epoch 7 | 26/28 batches | accuracy 0.640625\n",
            "------------------------------------------------------------\n",
            "end of epoch 7 | time:10.741474628448486s | valid accuracy 0.5376712328767124\n",
            "------------------------------------------------------------\n",
            "epoch 8 | 0/28 batches | accuracy 0.4375\n",
            "epoch 8 | 2/28 batches | accuracy 0.421875\n",
            "epoch 8 | 4/28 batches | accuracy 0.390625\n",
            "epoch 8 | 6/28 batches | accuracy 0.484375\n",
            "epoch 8 | 8/28 batches | accuracy 0.5625\n",
            "epoch 8 | 10/28 batches | accuracy 0.484375\n",
            "epoch 8 | 12/28 batches | accuracy 0.4375\n",
            "epoch 8 | 14/28 batches | accuracy 0.453125\n",
            "epoch 8 | 16/28 batches | accuracy 0.5625\n",
            "epoch 8 | 18/28 batches | accuracy 0.453125\n",
            "epoch 8 | 20/28 batches | accuracy 0.546875\n",
            "epoch 8 | 22/28 batches | accuracy 0.5625\n",
            "epoch 8 | 24/28 batches | accuracy 0.484375\n",
            "epoch 8 | 26/28 batches | accuracy 0.390625\n",
            "------------------------------------------------------------\n",
            "end of epoch 8 | time:10.63799500465393s | valid accuracy 0.5376712328767124\n",
            "------------------------------------------------------------\n",
            "epoch 9 | 0/28 batches | accuracy 0.4375\n",
            "epoch 9 | 2/28 batches | accuracy 0.5\n",
            "epoch 9 | 4/28 batches | accuracy 0.40625\n",
            "epoch 9 | 6/28 batches | accuracy 0.421875\n",
            "epoch 9 | 8/28 batches | accuracy 0.40625\n",
            "epoch 9 | 10/28 batches | accuracy 0.5625\n",
            "epoch 9 | 12/28 batches | accuracy 0.46875\n",
            "epoch 9 | 14/28 batches | accuracy 0.53125\n",
            "epoch 9 | 16/28 batches | accuracy 0.40625\n",
            "epoch 9 | 18/28 batches | accuracy 0.578125\n",
            "epoch 9 | 20/28 batches | accuracy 0.390625\n",
            "epoch 9 | 22/28 batches | accuracy 0.5625\n",
            "epoch 9 | 24/28 batches | accuracy 0.453125\n",
            "epoch 9 | 26/28 batches | accuracy 0.53125\n",
            "------------------------------------------------------------\n",
            "end of epoch 9 | time:10.903053045272827s | valid accuracy 0.5376712328767124\n",
            "------------------------------------------------------------\n",
            "epoch 10 | 0/28 batches | accuracy 0.4375\n",
            "epoch 10 | 2/28 batches | accuracy 0.453125\n",
            "epoch 10 | 4/28 batches | accuracy 0.40625\n",
            "epoch 10 | 6/28 batches | accuracy 0.46875\n",
            "epoch 10 | 8/28 batches | accuracy 0.4375\n",
            "epoch 10 | 10/28 batches | accuracy 0.421875\n",
            "epoch 10 | 12/28 batches | accuracy 0.421875\n",
            "epoch 10 | 14/28 batches | accuracy 0.65625\n",
            "epoch 10 | 16/28 batches | accuracy 0.484375\n",
            "epoch 10 | 18/28 batches | accuracy 0.453125\n",
            "epoch 10 | 20/28 batches | accuracy 0.46875\n",
            "epoch 10 | 22/28 batches | accuracy 0.5625\n",
            "epoch 10 | 24/28 batches | accuracy 0.46875\n",
            "epoch 10 | 26/28 batches | accuracy 0.5625\n",
            "------------------------------------------------------------\n",
            "end of epoch 10 | time:10.768285751342773s | valid accuracy 0.5376712328767124\n",
            "------------------------------------------------------------\n",
            "Elapsed time 107.38909196853638\n"
          ]
        }
      ]
    },
    {
      "cell_type": "markdown",
      "metadata": {
        "id": "t6zMB167ySTa"
      },
      "source": [
        "### 5.4 Plots and Evaluation metrics"
      ]
    },
    {
      "cell_type": "code",
      "metadata": {
        "colab": {
          "base_uri": "https://localhost:8080/",
          "height": 621
        },
        "id": "3Ag0XAaoyOrR",
        "outputId": "2cfe7023-56df-486c-a218-fa495b52f46b"
      },
      "source": [
        "# Plot loss and accuracy\n",
        "fig, ax = plt.subplots(nrows=1, ncols=2, figsize=(20,10) , sharey=True)\n",
        "\n",
        "ax11 = ax[0].twinx()\n",
        "ax[0].plot(train_history['train']['loss'], color='black',label='Loss')\n",
        "ax[0].set_title('Training')\n",
        "ax[0].set_xlabel('Epochs')\n",
        "ax[0].set_ylabel('Loss', color='black')\n",
        "ax11.plot(train_history['train']['acc'], color='green', label='Accuracy')\n",
        "ax11.set_ylabel('Score', color='green')\n",
        "ax11.legend()\n",
        "\n",
        "ax22 = ax[1].twinx()\n",
        "ax[1].plot(train_history['valid']['loss'], color='black',label='Loss')\n",
        "ax[1].set_title('Validation')\n",
        "ax[1].set_xlabel('Epochs')\n",
        "ax[1].set_ylabel('Loss', color='black')\n",
        "ax22.plot(train_history['valid']['acc'], color='green', label='Accuracy')\n",
        "ax22.set_ylabel('Score', color='green')\n",
        "ax22.legend()\n",
        "\n",
        "plt.show()\n",
        "fig.savefig('train_val_acc_loss.png')"
      ],
      "execution_count": null,
      "outputs": [
        {
          "output_type": "display_data",
          "data": {
            "image/png": "[encoded data removed]",
            "text/plain": [
              "<Figure size 1440x720 with 4 Axes>"
            ]
          },
          "metadata": {
            "needs_background": "light"
          }
        }
      ]
    },
    {
      "cell_type": "markdown",
      "metadata": {
        "id": "9tkZB_m1yB3v"
      },
      "source": [
        "## 6 Inference"
      ]
    },
    {
      "cell_type": "code",
      "metadata": {
        "colab": {
          "base_uri": "https://localhost:8080/"
        },
        "id": "cxF_K4fR2AB6",
        "outputId": "0207e383-8fc8-40cf-88ac-53874cd6dcee"
      },
      "source": [
        "print('Check results of the test dataset')\n",
        "test_loss, test_acc, test_probs, test_preds = eval_model(news_model,test_dataloader, criterion,is_test=True)\n",
        "print(f'Test accuracy {test_acc}')"
      ],
      "execution_count": null,
      "outputs": [
        {
          "output_type": "stream",
          "name": "stdout",
          "text": [
            "Check results of the test dataset\n",
            "Test accuracy 0.4863013698630137\n"
          ]
        }
      ]
    },
    {
      "cell_type": "markdown",
      "metadata": {
        "id": "mzsH_5QI1Og5"
      },
      "source": [
        "### 6.1 Metrics"
      ]
    },
    {
      "cell_type": "code",
      "metadata": {
        "id": "gQcaDYN21L0L"
      },
      "source": [
        "import itertools\n",
        "chain_probs = itertools.chain(*test_probs)\n",
        "chain_preds = itertools.chain(*test_preds)\n",
        "test_probs = np.array(list(chain_probs))\n",
        "test_preds = np.array(list(chain_preds),dtype=bool)"
      ],
      "execution_count": null,
      "outputs": []
    },
    {
      "cell_type": "code",
      "metadata": {
        "colab": {
          "base_uri": "https://localhost:8080/"
        },
        "id": "tpcLF-jH5QBH",
        "outputId": "46d07913-0da5-4d34-d01f-5b0f167eb4e0"
      },
      "source": [
        "from sklearn.metrics import accuracy_score\n",
        "import sklearn.metrics as metrics\n",
        "from sklearn.metrics import confusion_matrix\n",
        "\n",
        "auc = metrics.roc_auc_score(y_test.to_numpy(), test_probs)\n",
        "report = metrics.classification_report(y_test.to_numpy(), test_preds )\n",
        "\n",
        "print(f'AUC: {round(auc,2)}')\n",
        "print(report)"
      ],
      "execution_count": null,
      "outputs": [
        {
          "output_type": "stream",
          "name": "stdout",
          "text": [
            "AUC: 0.56\n",
            "              precision    recall  f1-score   support\n",
            "\n",
            "       False       0.00      0.00      0.00       150\n",
            "        True       0.49      1.00      0.65       142\n",
            "\n",
            "    accuracy                           0.49       292\n",
            "   macro avg       0.24      0.50      0.33       292\n",
            "weighted avg       0.24      0.49      0.32       292\n",
            "\n"
          ]
        },
        {
          "output_type": "stream",
          "name": "stderr",
          "text": [
            "/usr/local/lib/python3.7/dist-packages/sklearn/metrics/_classification.py:1308: UndefinedMetricWarning: Precision and F-score are ill-defined and being set to 0.0 in labels with no predicted samples. Use `zero_division` parameter to control this behavior.\n",
            "  _warn_prf(average, modifier, msg_start, len(result))\n",
            "/usr/local/lib/python3.7/dist-packages/sklearn/metrics/_classification.py:1308: UndefinedMetricWarning: Precision and F-score are ill-defined and being set to 0.0 in labels with no predicted samples. Use `zero_division` parameter to control this behavior.\n",
            "  _warn_prf(average, modifier, msg_start, len(result))\n",
            "/usr/local/lib/python3.7/dist-packages/sklearn/metrics/_classification.py:1308: UndefinedMetricWarning: Precision and F-score are ill-defined and being set to 0.0 in labels with no predicted samples. Use `zero_division` parameter to control this behavior.\n",
            "  _warn_prf(average, modifier, msg_start, len(result))\n"
          ]
        }
      ]
    },
    {
      "cell_type": "code",
      "metadata": {
        "colab": {
          "base_uri": "https://localhost:8080/",
          "height": 513
        },
        "id": "yi6yB-n8vCrP",
        "outputId": "40cfe822-8b1f-41d2-89b3-420a843d9c36"
      },
      "source": [
        "# Confusion Matrix\n",
        "cm = metrics.confusion_matrix(y_test.to_numpy(), test_preds)\n",
        "fig, ax = plt.subplots(figsize=(10,8))\n",
        "sns.heatmap(cm, annot=True, fmt='d', ax=ax, cmap='Blues', cbar=False)\n",
        "ax.set_xlabel('Predicted')\n",
        "ax.set_ylabel('True')\n",
        "ax.set_xticklabels(['Real', 'Fake'])\n",
        "ax.set_yticklabels(['Real', 'Fake'])\n",
        "ax.set_title('Confusion Matrix')\n",
        "plt.yticks(rotation=0)\n",
        "fig.savefig('nn_confusion_matrix.png')"
      ],
      "execution_count": null,
      "outputs": [
        {
          "output_type": "display_data",
          "data": {
            "image/png": "[encoded data removed]",
            "text/plain": [
              "<Figure size 720x576 with 1 Axes>"
            ]
          },
          "metadata": {
            "needs_background": "light"
          }
        }
      ]
    },
    {
      "cell_type": "code",
      "metadata": {
        "colab": {
          "base_uri": "https://localhost:8080/",
          "height": 513
        },
        "id": "al3rt04Xvifr",
        "outputId": "1836cba5-84ff-4dd4-c444-c2d6385064c3"
      },
      "source": [
        "# Precision-Recall curve\n",
        "fig, ax = plt.subplots(figsize=(10,8))\n",
        "precision, recall, thresh = metrics.precision_recall_curve(y_test.to_numpy(),test_probs)\n",
        "ax.plot(recall, precision,label=f'Neural Network (area={round(metrics.auc(recall, precision),2)})')\n",
        "ax.set_xlim([0.0,1.05])\n",
        "ax.set_ylim([0.0,1.05])\n",
        "ax.set_xlabel('Recall')\n",
        "ax.set_ylabel('Precision')\n",
        "ax.set_title('Precision-Recall curve')\n",
        "ax.legend(loc='best')\n",
        "ax.grid(True)\n",
        "plt.show()\n",
        "fig.savefig('nn_prec_rec_curve.png')"
      ],
      "execution_count": null,
      "outputs": [
        {
          "output_type": "display_data",
          "data": {
            "image/png": "[encoded data removed]",
            "text/plain": [
              "<Figure size 720x576 with 1 Axes>"
            ]
          },
          "metadata": {
            "needs_background": "light"
          }
        }
      ]
    },
    {
      "cell_type": "markdown",
      "metadata": {
        "id": "G5HG5joo8ND7"
      },
      "source": [
        "# Deep Learning Model(pretrained)"
      ]
    },
    {
      "cell_type": "markdown",
      "metadata": {
        "id": "SKRjT8JSoaep"
      },
      "source": [
        "## 1 Pretrained Word2Vec vectors"
      ]
    },
    {
      "cell_type": "code",
      "metadata": {
        "id": "UwylZUoSojQ_"
      },
      "source": [
        "from gensim.test.utils import datapath\n",
        "\n",
        "pretrained_word2vec_model = gensim.models.KeyedVectors.load_word2vec_format('/content/drive/MyDrive/Datasets/GoogleNews-vectors-negative300.bin', binary=True)"
      ],
      "execution_count": null,
      "outputs": []
    },
    {
      "cell_type": "markdown",
      "metadata": {
        "id": "N4Il_DRn0xzp"
      },
      "source": [
        "## 2 Training"
      ]
    },
    {
      "cell_type": "markdown",
      "metadata": {
        "id": "wvj7BtDD01Ou"
      },
      "source": [
        "### 2.1 Initialise"
      ]
    },
    {
      "cell_type": "code",
      "metadata": {
        "colab": {
          "base_uri": "https://localhost:8080/"
        },
        "id": "BuDMWJsZqkqj",
        "outputId": "8247baed-eb9e-4349-d4df-afce9eb77a26"
      },
      "source": [
        "# Vocabulary size\n",
        "pre_vocab_size = len(pretrained_word2vec_model.vocab)\n",
        "\n",
        "# Pretrained weights\n",
        "pre_word2vec_weights = torch.FloatTensor(pretrained_word2vec_model.vectors)\n",
        "\n",
        "# Classifier Model\n",
        "pre_news_model = SimpleLSTMClassifier(pre_vocab_size, hyper_params['embedding-size'], hyper_params['hidden-dim'],\n",
        "                                      hyper_params['num-layers'], hyper_params['num-classes'], weights=pre_word2vec_weights ).to(DEVICE)\n",
        "print(pre_news_model)\n",
        "\n",
        "\n",
        "# Optimizer\n",
        "pre_optimizer = optim.Adam(pre_news_model.parameters(), lr=hyper_params['learning-rate'])\n",
        "\n",
        "# Scheduler\n",
        "pre_scheduler = optim.lr_scheduler.StepLR(pre_optimizer, 1.0, gamma=0.1)"
      ],
      "execution_count": null,
      "outputs": [
        {
          "output_type": "stream",
          "name": "stdout",
          "text": [
            "SimpleLSTMClassifier(\n",
            "  (embedding): Embedding(3000000, 300)\n",
            "  (lstm): LSTM(300, 32, num_layers=2, batch_first=True, dropout=0.2, bidirectional=True)\n",
            "  (fc): Linear(in_features=64, out_features=1, bias=True)\n",
            "  (sig): Sigmoid()\n",
            ")\n"
          ]
        }
      ]
    },
    {
      "cell_type": "markdown",
      "metadata": {
        "id": "hpw_XL372GfA"
      },
      "source": [
        "### 2.3 Train the model"
      ]
    },
    {
      "cell_type": "code",
      "metadata": {
        "colab": {
          "base_uri": "https://localhost:8080/"
        },
        "id": "BOoA1qyv0-c_",
        "outputId": "f56d2a34-a407-4001-eea5-adcc316b0c17"
      },
      "source": [
        "run(pre_news_model, hyper_params['epochs'], dataloader, criterion, pre_optimizer, pre_scheduler, hyper_params['seed'])"
      ],
      "execution_count": null,
      "outputs": [
        {
          "output_type": "stream",
          "name": "stdout",
          "text": [
            "epoch 1 | 0/28 batches | accuracy 0.34375\n",
            "epoch 1 | 2/28 batches | accuracy 0.5\n",
            "epoch 1 | 4/28 batches | accuracy 0.46875\n",
            "epoch 1 | 6/28 batches | accuracy 0.40625\n",
            "epoch 1 | 8/28 batches | accuracy 0.484375\n",
            "epoch 1 | 10/28 batches | accuracy 0.46875\n",
            "epoch 1 | 12/28 batches | accuracy 0.53125\n",
            "epoch 1 | 14/28 batches | accuracy 0.578125\n",
            "epoch 1 | 16/28 batches | accuracy 0.515625\n",
            "epoch 1 | 18/28 batches | accuracy 0.453125\n",
            "epoch 1 | 20/28 batches | accuracy 0.515625\n",
            "epoch 1 | 22/28 batches | accuracy 0.421875\n",
            "epoch 1 | 24/28 batches | accuracy 0.5\n",
            "epoch 1 | 26/28 batches | accuracy 0.484375\n",
            "------------------------------------------------------------\n",
            "end of epoch 1 | time:10.90559434890747s | valid accuracy 0.541095890410959\n",
            "------------------------------------------------------------\n",
            "epoch 2 | 0/28 batches | accuracy 0.46875\n",
            "epoch 2 | 2/28 batches | accuracy 0.46875\n",
            "epoch 2 | 4/28 batches | accuracy 0.46875\n",
            "epoch 2 | 6/28 batches | accuracy 0.4375\n",
            "epoch 2 | 8/28 batches | accuracy 0.4375\n",
            "epoch 2 | 10/28 batches | accuracy 0.515625\n",
            "epoch 2 | 12/28 batches | accuracy 0.421875\n",
            "epoch 2 | 14/28 batches | accuracy 0.375\n",
            "epoch 2 | 16/28 batches | accuracy 0.59375\n",
            "epoch 2 | 18/28 batches | accuracy 0.5\n",
            "epoch 2 | 20/28 batches | accuracy 0.546875\n",
            "epoch 2 | 22/28 batches | accuracy 0.609375\n",
            "epoch 2 | 24/28 batches | accuracy 0.40625\n",
            "epoch 2 | 26/28 batches | accuracy 0.4375\n",
            "------------------------------------------------------------\n",
            "end of epoch 2 | time:10.52162790298462s | valid accuracy 0.5445205479452054\n",
            "------------------------------------------------------------\n",
            "epoch 3 | 0/28 batches | accuracy 0.34375\n",
            "epoch 3 | 2/28 batches | accuracy 0.53125\n",
            "epoch 3 | 4/28 batches | accuracy 0.546875\n",
            "epoch 3 | 6/28 batches | accuracy 0.5625\n",
            "epoch 3 | 8/28 batches | accuracy 0.390625\n",
            "epoch 3 | 10/28 batches | accuracy 0.53125\n",
            "epoch 3 | 12/28 batches | accuracy 0.484375\n",
            "epoch 3 | 14/28 batches | accuracy 0.46875\n",
            "epoch 3 | 16/28 batches | accuracy 0.5\n",
            "epoch 3 | 18/28 batches | accuracy 0.421875\n",
            "epoch 3 | 20/28 batches | accuracy 0.46875\n",
            "epoch 3 | 22/28 batches | accuracy 0.421875\n",
            "epoch 3 | 24/28 batches | accuracy 0.59375\n",
            "epoch 3 | 26/28 batches | accuracy 0.46875\n",
            "------------------------------------------------------------\n",
            "end of epoch 3 | time:10.969916343688965s | valid accuracy 0.5376712328767124\n",
            "------------------------------------------------------------\n",
            "epoch 4 | 0/28 batches | accuracy 0.40625\n",
            "epoch 4 | 2/28 batches | accuracy 0.5625\n",
            "epoch 4 | 4/28 batches | accuracy 0.546875\n",
            "epoch 4 | 6/28 batches | accuracy 0.359375\n",
            "epoch 4 | 8/28 batches | accuracy 0.46875\n",
            "epoch 4 | 10/28 batches | accuracy 0.578125\n",
            "epoch 4 | 12/28 batches | accuracy 0.421875\n",
            "epoch 4 | 14/28 batches | accuracy 0.5625\n",
            "epoch 4 | 16/28 batches | accuracy 0.453125\n",
            "epoch 4 | 18/28 batches | accuracy 0.4375\n",
            "epoch 4 | 20/28 batches | accuracy 0.4375\n",
            "epoch 4 | 22/28 batches | accuracy 0.453125\n",
            "epoch 4 | 24/28 batches | accuracy 0.484375\n",
            "epoch 4 | 26/28 batches | accuracy 0.453125\n",
            "------------------------------------------------------------\n",
            "end of epoch 4 | time:10.724190950393677s | valid accuracy 0.5376712328767124\n",
            "------------------------------------------------------------\n",
            "epoch 5 | 0/28 batches | accuracy 0.40625\n",
            "epoch 5 | 2/28 batches | accuracy 0.46875\n",
            "epoch 5 | 4/28 batches | accuracy 0.421875\n",
            "epoch 5 | 6/28 batches | accuracy 0.453125\n",
            "epoch 5 | 8/28 batches | accuracy 0.5625\n",
            "epoch 5 | 10/28 batches | accuracy 0.546875\n",
            "epoch 5 | 12/28 batches | accuracy 0.609375\n",
            "epoch 5 | 14/28 batches | accuracy 0.3125\n",
            "epoch 5 | 16/28 batches | accuracy 0.53125\n",
            "epoch 5 | 18/28 batches | accuracy 0.578125\n",
            "epoch 5 | 20/28 batches | accuracy 0.453125\n",
            "epoch 5 | 22/28 batches | accuracy 0.453125\n",
            "epoch 5 | 24/28 batches | accuracy 0.5\n",
            "epoch 5 | 26/28 batches | accuracy 0.421875\n",
            "------------------------------------------------------------\n",
            "end of epoch 5 | time:10.742089748382568s | valid accuracy 0.5376712328767124\n",
            "------------------------------------------------------------\n",
            "epoch 6 | 0/28 batches | accuracy 0.5\n",
            "epoch 6 | 2/28 batches | accuracy 0.5\n",
            "epoch 6 | 4/28 batches | accuracy 0.515625\n",
            "epoch 6 | 6/28 batches | accuracy 0.5\n",
            "epoch 6 | 8/28 batches | accuracy 0.5625\n",
            "epoch 6 | 10/28 batches | accuracy 0.484375\n",
            "epoch 6 | 12/28 batches | accuracy 0.421875\n",
            "epoch 6 | 14/28 batches | accuracy 0.453125\n",
            "epoch 6 | 16/28 batches | accuracy 0.53125\n",
            "epoch 6 | 18/28 batches | accuracy 0.46875\n",
            "epoch 6 | 20/28 batches | accuracy 0.421875\n",
            "epoch 6 | 22/28 batches | accuracy 0.390625\n",
            "epoch 6 | 24/28 batches | accuracy 0.515625\n",
            "epoch 6 | 26/28 batches | accuracy 0.5\n",
            "------------------------------------------------------------\n",
            "end of epoch 6 | time:10.963531494140625s | valid accuracy 0.5376712328767124\n",
            "------------------------------------------------------------\n",
            "epoch 7 | 0/28 batches | accuracy 0.53125\n",
            "epoch 7 | 2/28 batches | accuracy 0.4375\n",
            "epoch 7 | 4/28 batches | accuracy 0.484375\n",
            "epoch 7 | 6/28 batches | accuracy 0.421875\n",
            "epoch 7 | 8/28 batches | accuracy 0.53125\n",
            "epoch 7 | 10/28 batches | accuracy 0.46875\n",
            "epoch 7 | 12/28 batches | accuracy 0.359375\n",
            "epoch 7 | 14/28 batches | accuracy 0.4375\n",
            "epoch 7 | 16/28 batches | accuracy 0.53125\n",
            "epoch 7 | 18/28 batches | accuracy 0.484375\n",
            "epoch 7 | 20/28 batches | accuracy 0.484375\n",
            "epoch 7 | 22/28 batches | accuracy 0.46875\n",
            "epoch 7 | 24/28 batches | accuracy 0.53125\n",
            "epoch 7 | 26/28 batches | accuracy 0.65625\n",
            "------------------------------------------------------------\n",
            "end of epoch 7 | time:10.726233720779419s | valid accuracy 0.541095890410959\n",
            "------------------------------------------------------------\n",
            "epoch 8 | 0/28 batches | accuracy 0.4375\n",
            "epoch 8 | 2/28 batches | accuracy 0.421875\n",
            "epoch 8 | 4/28 batches | accuracy 0.40625\n",
            "epoch 8 | 6/28 batches | accuracy 0.46875\n",
            "epoch 8 | 8/28 batches | accuracy 0.5625\n",
            "epoch 8 | 10/28 batches | accuracy 0.453125\n",
            "epoch 8 | 12/28 batches | accuracy 0.46875\n",
            "epoch 8 | 14/28 batches | accuracy 0.453125\n",
            "epoch 8 | 16/28 batches | accuracy 0.5625\n",
            "epoch 8 | 18/28 batches | accuracy 0.453125\n",
            "epoch 8 | 20/28 batches | accuracy 0.53125\n",
            "epoch 8 | 22/28 batches | accuracy 0.5625\n",
            "epoch 8 | 24/28 batches | accuracy 0.46875\n",
            "epoch 8 | 26/28 batches | accuracy 0.375\n",
            "------------------------------------------------------------\n",
            "end of epoch 8 | time:10.756834268569946s | valid accuracy 0.5376712328767124\n",
            "------------------------------------------------------------\n",
            "epoch 9 | 0/28 batches | accuracy 0.4375\n",
            "epoch 9 | 2/28 batches | accuracy 0.5\n",
            "epoch 9 | 4/28 batches | accuracy 0.40625\n",
            "epoch 9 | 6/28 batches | accuracy 0.40625\n",
            "epoch 9 | 8/28 batches | accuracy 0.421875\n",
            "epoch 9 | 10/28 batches | accuracy 0.53125\n",
            "epoch 9 | 12/28 batches | accuracy 0.46875\n",
            "epoch 9 | 14/28 batches | accuracy 0.515625\n",
            "epoch 9 | 16/28 batches | accuracy 0.40625\n",
            "epoch 9 | 18/28 batches | accuracy 0.59375\n",
            "epoch 9 | 20/28 batches | accuracy 0.421875\n",
            "epoch 9 | 22/28 batches | accuracy 0.578125\n",
            "epoch 9 | 24/28 batches | accuracy 0.453125\n",
            "epoch 9 | 26/28 batches | accuracy 0.546875\n",
            "------------------------------------------------------------\n",
            "end of epoch 9 | time:10.92445993423462s | valid accuracy 0.5376712328767124\n",
            "------------------------------------------------------------\n",
            "epoch 10 | 0/28 batches | accuracy 0.4375\n",
            "epoch 10 | 2/28 batches | accuracy 0.46875\n",
            "epoch 10 | 4/28 batches | accuracy 0.421875\n",
            "epoch 10 | 6/28 batches | accuracy 0.484375\n",
            "epoch 10 | 8/28 batches | accuracy 0.40625\n",
            "epoch 10 | 10/28 batches | accuracy 0.4375\n",
            "epoch 10 | 12/28 batches | accuracy 0.421875\n",
            "epoch 10 | 14/28 batches | accuracy 0.65625\n",
            "epoch 10 | 16/28 batches | accuracy 0.484375\n",
            "epoch 10 | 18/28 batches | accuracy 0.4375\n",
            "epoch 10 | 20/28 batches | accuracy 0.4375\n",
            "epoch 10 | 22/28 batches | accuracy 0.546875\n",
            "epoch 10 | 24/28 batches | accuracy 0.484375\n",
            "epoch 10 | 26/28 batches | accuracy 0.53125\n",
            "------------------------------------------------------------\n",
            "end of epoch 10 | time:10.844800233840942s | valid accuracy 0.5376712328767124\n",
            "------------------------------------------------------------\n",
            "Elapsed time 108.08768701553345\n"
          ]
        },
        {
          "output_type": "execute_result",
          "data": {
            "text/plain": [
              "{'train': {'acc': array([0.54109589, 0.54452055, 0.53767123, 0.53767123, 0.53767123,\n",
              "         0.53767123, 0.54109589, 0.53767123, 0.53767123, 0.53767123]),\n",
              "  'loss': array([45.89041096, 45.54794521, 46.23287671, 46.23287671, 46.23287671,\n",
              "         46.23287671, 45.89041096, 46.23287671, 46.23287671, 46.23287671])},\n",
              " 'valid': {'acc': array([0., 0., 0., 0., 0., 0., 0., 0., 0., 0.]),\n",
              "  'loss': array([0., 0., 0., 0., 0., 0., 0., 0., 0., 0.])}}"
            ]
          },
          "metadata": {},
          "execution_count": 31
        }
      ]
    },
    {
      "cell_type": "markdown",
      "metadata": {
        "id": "8vIytcEn4YZB"
      },
      "source": [
        "## 3 Inference"
      ]
    },
    {
      "cell_type": "code",
      "metadata": {
        "colab": {
          "base_uri": "https://localhost:8080/"
        },
        "id": "HRjEGyEn4ZB2",
        "outputId": "cef5e484-7c4b-48c4-89d2-5251ba78c0c2"
      },
      "source": [
        "print('Check results of the test dataset')\n",
        "pre_test_loss, pre_test_acc = eval_model(pre_news_model,test_dataloader, criterion)\n",
        "print(f'Test accuracy {pre_test_acc}')"
      ],
      "execution_count": null,
      "outputs": [
        {
          "output_type": "stream",
          "name": "stdout",
          "text": [
            "Check results of the test dataset\n",
            "Test accuracy 0.4863013698630137\n"
          ]
        }
      ]
    }
  ]
}